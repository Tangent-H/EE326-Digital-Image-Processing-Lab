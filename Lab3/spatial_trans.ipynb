{
 "cells": [
  {
   "cell_type": "code",
   "execution_count": 12,
   "metadata": {},
   "outputs": [],
   "source": [
    "import numpy as np\n",
    "import matplotlib.pyplot as plt\n",
    "from PIL import Image"
   ]
  },
  {
   "cell_type": "code",
   "execution_count": 13,
   "metadata": {},
   "outputs": [],
   "source": [
    "def hist_equ(input_image):\n",
    "    # number of pixel\n",
    "    N = input_image.shape[0] * input_image.shape[1]\n",
    "    # histogram\n",
    "    input_hist, _ = np.histogram(input_image.flatten(), 256, [0, 256])\n",
    "    input_hist = input_hist/N\n",
    "    # cumulative histogram\n",
    "    cdf = input_hist.cumsum() #implicitly converted to float64\n",
    "    # histogram equalization\n",
    "    output_image = np.zeros(input_image.shape, dtype=input_image.dtype)\n",
    "    output_image = 255 * cdf[input_image]\n",
    "    output_image = output_image.astype(np.uint8)\n",
    "    output_hist, _ = np.histogram(output_image.flatten(), 256, [0, 256])\n",
    "    output_hist = output_hist/N\n",
    "    return (output_image, output_hist, input_hist)"
   ]
  },
  {
   "cell_type": "code",
   "execution_count": 14,
   "metadata": {},
   "outputs": [],
   "source": [
    "def hist_match(input_image, spec_hist):\n",
    "    # number of pixel\n",
    "    N = input_image.shape[0] * input_image.shape[1]\n",
    "    # histogram\n",
    "    input_hist, _ = np.histogram(input_image.flatten(), 256, [0, 256])\n",
    "    input_hist = input_hist/N\n",
    "    # equalized\n",
    "    eq_img, eq_hist, _ = hist_equ(input_image)\n",
    "    eq_hist_cdf = eq_hist.cumsum()  #is a functioni, input: pixel value, output: cumulative probability\n",
    "    # normalized specified cumulative histogram\n",
    "    spec_hist = spec_hist/spec_hist.sum()\n",
    "    spec_cdf = spec_hist.cumsum()\n",
    "    # transform function: inversing the equalized histogram\n",
    "    temp = eq_hist_cdf[eq_img]  #mapping equalized image to its cumulative probability\n",
    "    # mapping the cumulative probability to the specified cumulative probability\n",
    "    output_image_flatten = np.argmin(np.abs(temp.flatten()[:,np.newaxis]-spec_cdf), axis=1).astype(np.uint8)   #find the closest value in spec_cdf, and return the index, using broadcastin\n",
    "    output_image = output_image_flatten.reshape(input_image.shape)\n",
    "    output_hist,_ = np.histogram(output_image_flatten, 256, [0, 256])\n",
    "    output_hist = output_hist/N\n",
    "    return (output_image, output_hist, input_hist)"
   ]
  },
  {
   "cell_type": "code",
   "execution_count": 15,
   "metadata": {},
   "outputs": [],
   "source": [
    "def local_hist_equ(input_image, m_size):\n",
    "    # number of pixel\n",
    "    N = input_image.shape[0] * input_image.shape[1]\n",
    "    # histogram\n",
    "    input_hist, _ = np.histogram(input_image.flatten(), 256, [0, 256])\n",
    "    input_hist = input_hist/N\n",
    "    # padding, and ensure m_size is odd\n",
    "    if m_size % 2 == 0:\n",
    "        m_size += 1\n",
    "    temp = np.pad(input_image, m_size//2, mode='constant', constant_values=0)\n",
    "    # local histogram equalization\n",
    "    output_image = np.zeros(input_image.shape, dtype=input_image.dtype)\n",
    "    filter_N = m_size * m_size\n",
    "    for i in range(input_image.shape[0]):\n",
    "        for j in range(input_image.shape[1]):\n",
    "            temp_hist, _ = np.histogram(temp[i:i+m_size, j:j+m_size].flatten(), 256, [0, 256])\n",
    "            temp_hist = temp_hist/filter_N\n",
    "            cdf = temp_hist.cumsum()\n",
    "            output_image[i, j] = 255 * cdf[input_image[i, j]]\n",
    "    output_image = output_image.astype(np.uint8)\n",
    "    output_hist, _ = np.histogram(output_image.flatten(), 256, [0, 256])\n",
    "    output_hist = output_hist/N\n",
    "    return (output_image, output_hist, input_hist)"
   ]
  },
  {
   "cell_type": "code",
   "execution_count": 16,
   "metadata": {},
   "outputs": [],
   "source": [
    "def reduce_SAP(input_image, n_size):\n",
    "    '''\n",
    "    flipping the image at the edges would produce better results\n",
    "    '''\n",
    "    # padding, and ensure n_size is odd\n",
    "    if n_size % 2 == 0:\n",
    "        n_size += 1\n",
    "    temp = np.pad(input_image, n_size//2, mode='constant', constant_values=0)\n",
    "\n",
    "    output_image = np.zeros(input_image.shape, dtype=input_image.dtype)\n",
    "\n",
    "    for i in range(input_image.shape[0]):\n",
    "        for j in range(input_image.shape[1]):\n",
    "            output_image[i, j] = np.median(temp[i:i+n_size, j:j+n_size])\n",
    "    return output_image"
   ]
  },
  {
   "cell_type": "code",
   "execution_count": 17,
   "metadata": {},
   "outputs": [
    {
     "name": "stdout",
     "output_type": "stream",
     "text": [
      "This is a (500, 500) image, with datatype uint8\n"
     ]
    },
    {
     "name": "stderr",
     "output_type": "stream",
     "text": [
      "C:\\Users\\Tangent\\AppData\\Local\\Temp\\ipykernel_1864\\539001129.py:15: MatplotlibDeprecationWarning: Auto-removal of overlapping axes is deprecated since 3.6 and will be removed two minor releases later; explicitly call ax.remove() as needed.\n",
      "  plt.subplot(1,2,1)\n"
     ]
    },
    {
     "ename": "",
     "evalue": "",
     "output_type": "error",
     "traceback": [
      "\u001b[1;31mThe Kernel crashed while executing code in the the current cell or a previous cell. Please review the code in the cell(s) to identify a possible cause of the failure. Click <a href='https://aka.ms/vscodeJupyterKernelCrash'>here</a> for more info. View Jupyter <a href='command:jupyter.viewOutput'>log</a> for further details."
     ]
    }
   ],
   "source": [
    "if __name__ == \"__main__\":\n",
    "    # Read image\n",
    "    test1_1 = plt.imread('in/Q3_1_1.tif')\n",
    "    test1_2 = plt.imread('in/Q3_1_2.tif')\n",
    "    test2 = plt.imread('in/Q3_2.tif')\n",
    "    test3 = plt.imread('in/Q3_3.tif')\n",
    "    test4 = plt.imread('in/Q3_4.tif')\n",
    "    print(f\"This is a {test1_1.shape} image, with datatype {test1_1.dtype}\")\n",
    "\n",
    "    arr = np.array([1, 2, 3, 4, 5, 6, 7, 8, 9])\n",
    "    plt.bar(np.array([1,2,3,4,5,6,7,8,9]),arr)\n",
    "\n",
    "    # Histogram equalization\n",
    "    output_image1_1, output_hist1_1, input_hist1_1 = hist_equ(test1_1)\n",
    "    plt.subplot(1,2,1)\n",
    "    plt.imshow(test1_1, cmap='gray',vmin=0, vmax=255)  # why it seems like the image has already been equalized? but add vmin and vmax can solve this problem\n",
    "    plt.title('Input Image')\n",
    "    plt.subplot(1,2,2)\n",
    "    plt.imshow(output_image1_1, cmap='gray')\n",
    "    plt.title('Output Image')\n",
    "    plt.show()\n",
    "\n",
    "    plt.subplot(1,2,1)\n",
    "    plt.bar(np.arange(256), input_hist1_1)\n",
    "    plt.title('Input Histogram')\n",
    "    plt.subplot(1,2,2)\n",
    "    plt.bar(np.arange(256), output_hist1_1)\n",
    "    plt.title('Output Histogram')\n",
    "    plt.show()\n",
    "\n",
    "    img = Image.fromarray(output_image1_1)\n",
    "    Image.fromarray(output_image1_1).save('out/Q3_1_1_output.jpg')\n",
    "\n",
    "    output_image1_2, output_hist1_2, input_hist1_2 = hist_equ(test1_2)\n",
    "\n",
    "    plt.subplot(1,2,1)\n",
    "    plt.bar(np.arange(256), input_hist1_2)\n",
    "    plt.title('Input Histogram')\n",
    "    plt.subplot(1,2,2)\n",
    "    plt.bar(np.arange(256), output_hist1_2)\n",
    "    plt.title('Output Histogram')\n",
    "    plt.show()\n",
    "\n",
    "    img = Image.fromarray(output_image1_2)\n",
    "    Image.fromarray(output_image1_2).save('out/Q3_1_2_output.jpg')\n",
    "\n",
    "    # Histogram matching\n",
    "    spec_hist = np.hstack((np.linspace(0,30,20),np.linspace(30,5,30),np.linspace(5,0,130),np.linspace(0,2,30),np.linspace(2,0,45)))\n",
    "    plt.plot(spec_hist)\n",
    "    plt.title('Specified histogram')\n",
    "    plt.show()\n",
    "    output_image2, output_hist2, input_hist2 = hist_match(test2,spec_hist)\n",
    "    \n",
    "    plt.subplot(1,2,1)\n",
    "    plt.bar(np.arange(256), input_hist2)\n",
    "    plt.title('Input Histogram')\n",
    "    plt.subplot(1,2,2)\n",
    "    plt.bar(np.arange(256), output_hist2)\n",
    "    plt.title('Output Histogram')\n",
    "    plt.show()\n",
    "\n",
    "    img = Image.fromarray(output_image2)\n",
    "    Image.fromarray(output_image2).save('out/Q3_2_output.jpg')\n",
    "\n",
    "    # Local histogram equalization\n",
    "    output_image3, output_hist3, input_hist3 = local_hist_equ(test3, 5)\n",
    "    plt.subplot(1,2,1)\n",
    "    plt.bar(np.arange(256), input_hist3)\n",
    "    plt.title('Input Histogram')\n",
    "    plt.subplot(1,2,2)\n",
    "    plt.bar(np.arange(256), output_hist3)\n",
    "    plt.title('Output Histogram')\n",
    "    plt.show()\n",
    "\n",
    "    img = Image.fromarray(output_image3)\n",
    "    Image.fromarray(output_image3).save('out/Q3_3_output.jpg')\n",
    "\n",
    "    # Reduce salt-and-pepper noise\n",
    "    output_image4 = reduce_SAP(test4, 5)\n",
    "    img = Image.fromarray(output_image4)\n",
    "    Image.fromarray(output_image4).save('out/Q3_4_output.jpg')"
   ]
  }
 ],
 "metadata": {
  "kernelspec": {
   "display_name": "DIPlab",
   "language": "python",
   "name": "python3"
  },
  "language_info": {
   "codemirror_mode": {
    "name": "ipython",
    "version": 3
   },
   "file_extension": ".py",
   "mimetype": "text/x-python",
   "name": "python",
   "nbconvert_exporter": "python",
   "pygments_lexer": "ipython3",
   "version": "3.8.0"
  }
 },
 "nbformat": 4,
 "nbformat_minor": 2
}
