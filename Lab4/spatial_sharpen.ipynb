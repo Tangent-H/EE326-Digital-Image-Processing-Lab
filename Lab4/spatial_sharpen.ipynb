{
 "cells": [
  {
   "cell_type": "code",
   "execution_count": 42,
   "metadata": {},
   "outputs": [],
   "source": [
    "import numpy as np\n",
    "from PIL import Image\n",
    "from matplotlib import pyplot as plt"
   ]
  },
  {
   "cell_type": "markdown",
   "metadata": {},
   "source": [
    "Three methods of spatial sharpening discussed in the lecture are:\n",
    "1. Laplacian Sharpening\n",
    "    \n",
    "    a. convolution with the Laplacian kernel (2 types) and obtain the edge mask\n",
    "    \n",
    "    b . add the edge mask to the original image with appropriate scaling\n",
    "2. Unsharp Masking\n",
    "    \n",
    "    a. blur the image with a Gaussian kernel\n",
    "    \n",
    "    b. subtract the blurred image from the original image\n",
    "    \n",
    "    c. add the result to the original image with appropriate scaling\n",
    "3. First order derivative sharpening(Roberts Cross-gradient operator, Sobel operator)"
   ]
  },
  {
   "cell_type": "code",
   "execution_count": 43,
   "metadata": {},
   "outputs": [],
   "source": [
    "def conv2d(img: np.ndarray, kernel: np.ndarray, stride: int = 0, padding: int = 0) -> np.ndarray:\n",
    "    temp = np.pad(img, padding, mode='reflect')\n",
    "    out_img = np.zeros(img.shape)\n",
    "    for i in range(0, img.shape[0], stride):\n",
    "        for j in range(0, img.shape[1], stride):\n",
    "            out_img[i, j] = np.sum(temp[i:i+kernel.shape[0], j:j+kernel.shape[1]] * kernel)\n",
    "    return out_img"
   ]
  },
  {
   "cell_type": "code",
   "execution_count": 44,
   "metadata": {},
   "outputs": [],
   "source": [
    "def laplace_filter(img: np.ndarray, type: int = 1) -> np.ndarray:\n",
    "    if type == 1:\n",
    "        laplace = np.array([[0, 1, 0], [1, -4, 1], [0, 1, 0]])\n",
    "    else:\n",
    "        laplace = np.array([[1, 1, 1], [1, -8, 1], [1, 1, 1]])\n",
    "    mask = conv2d(img, laplace, stride=1, padding=1)\n",
    "    out_img = img - mask\n",
    "    out_img = out_img.clip(0, 255)\n",
    "    out_img = out_img.astype(np.uint8)\n",
    "    return mask, out_img"
   ]
  },
  {
   "cell_type": "code",
   "execution_count": 45,
   "metadata": {},
   "outputs": [],
   "source": [
    "def unsharp_masking(img: np.ndarray, scale: float = 1.0) -> np.ndarray:\n",
    "    kernel = np.ones((3, 3)) / 9\n",
    "    mask = img - conv2d(img, kernel, stride=1, padding=1)\n",
    "    out_img = img + scale * mask\n",
    "    out_img = out_img.clip(0, 255)\n",
    "    out_img = out_img.astype(np.uint8)\n",
    "    return mask, out_img"
   ]
  },
  {
   "cell_type": "code",
   "execution_count": 46,
   "metadata": {},
   "outputs": [],
   "source": [
    "def roberts(img: np.ndarray) -> np.ndarray:\n",
    "    # to faciliate covolution, we use 3*3 kernel instead of 2*2\n",
    "    roberts_1 = np.array([[0, 0, 0], [0, -1, 0], [0, 0, 1]])\n",
    "    roberts_2 = np.array([[0, 0, 0], [0, 0, -1], [0, 1, 0]])\n",
    "    mask_1 = conv2d(img, roberts_1, stride=1, padding=1)\n",
    "    mask_2 = conv2d(img, roberts_2, stride=1, padding=1)\n",
    "    mask = np.abs(mask_1) + np.abs(mask_2)\n",
    "    out_img = img + mask\n",
    "    out_img = out_img.clip(0, 255)\n",
    "    out_img = out_img.astype(np.uint8)\n",
    "    return mask, out_img"
   ]
  },
  {
   "cell_type": "code",
   "execution_count": 47,
   "metadata": {},
   "outputs": [],
   "source": [
    "def sobel(img: np.ndarray) -> np.ndarray:\n",
    "    sobel_y = np.array([[-1, 0, 1], [-2, 0, 2], [-1, 0, 1]])\n",
    "    sobel_x = np.array([[-1, -2, -1], [0, 0, 0], [1, 2, 1]])\n",
    "    mask_y = conv2d(img, sobel_x, stride=1, padding=1)\n",
    "    mask_x = conv2d(img, sobel_y, stride=1, padding=1)\n",
    "    mask = np.abs(mask_x) + np.abs(mask_y)\n",
    "    out_img = img + mask\n",
    "    out_img = out_img.clip(0, 255)\n",
    "    out_img = out_img.astype(np.uint8)\n",
    "    return mask, out_img"
   ]
  },
  {
   "cell_type": "code",
   "execution_count": 52,
   "metadata": {},
   "outputs": [
    {
     "ename": "KeyboardInterrupt",
     "evalue": "",
     "output_type": "error",
     "traceback": [
      "\u001b[1;31m---------------------------------------------------------------------------\u001b[0m",
      "\u001b[1;31mKeyboardInterrupt\u001b[0m                         Traceback (most recent call last)",
      "Cell \u001b[1;32mIn[52], line 1\u001b[0m\n\u001b[1;32m----> 1\u001b[0m \u001b[38;5;28;01mif\u001b[39;00m \u001b[38;5;18;43m__name__\u001b[39;49m \u001b[38;5;241m==\u001b[39m \u001b[38;5;124m\"\u001b[39m\u001b[38;5;124m__main__\u001b[39m\u001b[38;5;124m\"\u001b[39m:\n\u001b[0;32m      2\u001b[0m     test1 \u001b[38;5;241m=\u001b[39m plt\u001b[38;5;241m.\u001b[39mimread(\u001b[38;5;124m\"\u001b[39m\u001b[38;5;124min/Q4_1.tif\u001b[39m\u001b[38;5;124m\"\u001b[39m)\n\u001b[0;32m      3\u001b[0m     test2 \u001b[38;5;241m=\u001b[39m plt\u001b[38;5;241m.\u001b[39mimread(\u001b[38;5;124m\"\u001b[39m\u001b[38;5;124min/Q4_2.tif\u001b[39m\u001b[38;5;124m\"\u001b[39m)\n",
      "Cell \u001b[1;32mIn[52], line 1\u001b[0m\n\u001b[1;32m----> 1\u001b[0m \u001b[38;5;28;01mif\u001b[39;00m \u001b[38;5;18;43m__name__\u001b[39;49m \u001b[38;5;241m==\u001b[39m \u001b[38;5;124m\"\u001b[39m\u001b[38;5;124m__main__\u001b[39m\u001b[38;5;124m\"\u001b[39m:\n\u001b[0;32m      2\u001b[0m     test1 \u001b[38;5;241m=\u001b[39m plt\u001b[38;5;241m.\u001b[39mimread(\u001b[38;5;124m\"\u001b[39m\u001b[38;5;124min/Q4_1.tif\u001b[39m\u001b[38;5;124m\"\u001b[39m)\n\u001b[0;32m      3\u001b[0m     test2 \u001b[38;5;241m=\u001b[39m plt\u001b[38;5;241m.\u001b[39mimread(\u001b[38;5;124m\"\u001b[39m\u001b[38;5;124min/Q4_2.tif\u001b[39m\u001b[38;5;124m\"\u001b[39m)\n",
      "File \u001b[1;32m_pydevd_bundle/pydevd_cython.pyx:1457\u001b[0m, in \u001b[0;36m_pydevd_bundle.pydevd_cython.SafeCallWrapper.__call__\u001b[1;34m()\u001b[0m\n",
      "File \u001b[1;32m_pydevd_bundle/pydevd_cython.pyx:701\u001b[0m, in \u001b[0;36m_pydevd_bundle.pydevd_cython.PyDBFrame.trace_dispatch\u001b[1;34m()\u001b[0m\n",
      "File \u001b[1;32m_pydevd_bundle/pydevd_cython.pyx:1152\u001b[0m, in \u001b[0;36m_pydevd_bundle.pydevd_cython.PyDBFrame.trace_dispatch\u001b[1;34m()\u001b[0m\n",
      "File \u001b[1;32m_pydevd_bundle/pydevd_cython.pyx:1135\u001b[0m, in \u001b[0;36m_pydevd_bundle.pydevd_cython.PyDBFrame.trace_dispatch\u001b[1;34m()\u001b[0m\n",
      "File \u001b[1;32m_pydevd_bundle/pydevd_cython.pyx:312\u001b[0m, in \u001b[0;36m_pydevd_bundle.pydevd_cython.PyDBFrame.do_wait_suspend\u001b[1;34m()\u001b[0m\n",
      "File \u001b[1;32md:\\ProgramData\\anaconda3\\envs\\DIPlab\\lib\\site-packages\\debugpy\\_vendored\\pydevd\\pydevd.py:2070\u001b[0m, in \u001b[0;36mPyDB.do_wait_suspend\u001b[1;34m(self, thread, frame, event, arg, exception_type)\u001b[0m\n\u001b[0;32m   2067\u001b[0m             from_this_thread\u001b[38;5;241m.\u001b[39mappend(frame_custom_thread_id)\n\u001b[0;32m   2069\u001b[0m     \u001b[38;5;28;01mwith\u001b[39;00m \u001b[38;5;28mself\u001b[39m\u001b[38;5;241m.\u001b[39m_threads_suspended_single_notification\u001b[38;5;241m.\u001b[39mnotify_thread_suspended(thread_id, thread, stop_reason):\n\u001b[1;32m-> 2070\u001b[0m         keep_suspended \u001b[38;5;241m=\u001b[39m \u001b[38;5;28;43mself\u001b[39;49m\u001b[38;5;241;43m.\u001b[39;49m\u001b[43m_do_wait_suspend\u001b[49m\u001b[43m(\u001b[49m\u001b[43mthread\u001b[49m\u001b[43m,\u001b[49m\u001b[43m \u001b[49m\u001b[43mframe\u001b[49m\u001b[43m,\u001b[49m\u001b[43m \u001b[49m\u001b[43mevent\u001b[49m\u001b[43m,\u001b[49m\u001b[43m \u001b[49m\u001b[43marg\u001b[49m\u001b[43m,\u001b[49m\u001b[43m \u001b[49m\u001b[43msuspend_type\u001b[49m\u001b[43m,\u001b[49m\u001b[43m \u001b[49m\u001b[43mfrom_this_thread\u001b[49m\u001b[43m,\u001b[49m\u001b[43m \u001b[49m\u001b[43mframes_tracker\u001b[49m\u001b[43m)\u001b[49m\n\u001b[0;32m   2072\u001b[0m frames_list \u001b[38;5;241m=\u001b[39m \u001b[38;5;28;01mNone\u001b[39;00m\n\u001b[0;32m   2074\u001b[0m \u001b[38;5;28;01mif\u001b[39;00m keep_suspended:\n\u001b[0;32m   2075\u001b[0m     \u001b[38;5;66;03m# This means that we should pause again after a set next statement.\u001b[39;00m\n",
      "File \u001b[1;32md:\\ProgramData\\anaconda3\\envs\\DIPlab\\lib\\site-packages\\debugpy\\_vendored\\pydevd\\pydevd.py:2106\u001b[0m, in \u001b[0;36mPyDB._do_wait_suspend\u001b[1;34m(self, thread, frame, event, arg, suspend_type, from_this_thread, frames_tracker)\u001b[0m\n\u001b[0;32m   2103\u001b[0m         \u001b[38;5;28mself\u001b[39m\u001b[38;5;241m.\u001b[39m_call_input_hook()\n\u001b[0;32m   2105\u001b[0m     \u001b[38;5;28mself\u001b[39m\u001b[38;5;241m.\u001b[39mprocess_internal_commands()\n\u001b[1;32m-> 2106\u001b[0m     \u001b[43mtime\u001b[49m\u001b[38;5;241;43m.\u001b[39;49m\u001b[43msleep\u001b[49m\u001b[43m(\u001b[49m\u001b[38;5;241;43m0.01\u001b[39;49m\u001b[43m)\u001b[49m\n\u001b[0;32m   2108\u001b[0m \u001b[38;5;28mself\u001b[39m\u001b[38;5;241m.\u001b[39mcancel_async_evaluation(get_current_thread_id(thread), \u001b[38;5;28mstr\u001b[39m(\u001b[38;5;28mid\u001b[39m(frame)))\n\u001b[0;32m   2110\u001b[0m \u001b[38;5;66;03m# process any stepping instructions\u001b[39;00m\n",
      "\u001b[1;31mKeyboardInterrupt\u001b[0m: "
     ]
    }
   ],
   "source": [
    "if __name__ == \"__main__\":\n",
    "    test1 = plt.imread(\"in/Q4_1.tif\")\n",
    "    test2 = plt.imread(\"in/Q4_2.tif\")\n",
    "\n",
    "    func_handle = [laplace_filter, unsharp_masking, roberts, sobel]\n",
    "    for func in func_handle:\n",
    "        mask1, out1 = func(test1)\n",
    "        mask2, out2 = func(test2)\n",
    "        plt.figure()\n",
    "\n",
    "        plt.subplot(2,2,1)\n",
    "        plt.imshow(mask1, cmap='gray')\n",
    "        plt.title(func.__name__+\": Q4_1 mask\")\n",
    "        plt.axis('off')\n",
    "        plt.subplot(2,2,2)\n",
    "        plt.imshow(out1, cmap='gray')\n",
    "        plt.title(func.__name__+\": Q4_1\")\n",
    "        plt.axis('off')\n",
    "\n",
    "        plt.subplot(2,2,3)\n",
    "        plt.imshow(mask2, cmap='gray')\n",
    "        plt.title(func.__name__+\": Q4_1 mask\")\n",
    "        plt.axis('off')\n",
    "        plt.subplot(2,2,4)\n",
    "        plt.imshow(out2, cmap='gray')\n",
    "        plt.title(func.__name__+\": Q4_1\")\n",
    "        plt.axis('off')\n",
    "        plt.show()\n",
    "        \n",
    "        Image.fromarray(out1).save(f\"out/{func.__name__}_Q4_1.jpg\")\n",
    "        Image.fromarray(out2).save(f\"out/{func.__name__}_Q4_2.jpg\")\n",
    "\n"
   ]
  }
 ],
 "metadata": {
  "kernelspec": {
   "display_name": "DIPlab",
   "language": "python",
   "name": "python3"
  },
  "language_info": {
   "codemirror_mode": {
    "name": "ipython",
    "version": 3
   },
   "file_extension": ".py",
   "mimetype": "text/x-python",
   "name": "python",
   "nbconvert_exporter": "python",
   "pygments_lexer": "ipython3",
   "version": "3.8.0"
  }
 },
 "nbformat": 4,
 "nbformat_minor": 2
}
